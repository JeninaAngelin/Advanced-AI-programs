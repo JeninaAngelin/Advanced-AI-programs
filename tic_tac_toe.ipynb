{
  "nbformat": 4,
  "nbformat_minor": 0,
  "metadata": {
    "colab": {
      "provenance": []
    },
    "kernelspec": {
      "name": "python3",
      "display_name": "Python 3"
    },
    "language_info": {
      "name": "python"
    }
  },
  "cells": [
    {
      "cell_type": "code",
      "execution_count": 33,
      "metadata": {
        "id": "7pKslbCj_U3V"
      },
      "outputs": [],
      "source": [
        "from time import sleep\n",
        "import numpy as np\n",
        "import random"
      ]
    },
    {
      "cell_type": "code",
      "source": [
        "def create_board():\n",
        "  return (np.array([[0,0,0],[0,0,0],[0,0,0]]))"
      ],
      "metadata": {
        "id": "pVsbAhi7_pfn"
      },
      "execution_count": 34,
      "outputs": []
    },
    {
      "cell_type": "code",
      "source": [
        "def possibilities(board):\n",
        "  l=[]\n",
        "  for i in range(len(board)):\n",
        "    for j in range(len(board)):\n",
        "      if board[i][j]==0:\n",
        "        l.append((i,j))\n",
        "  return l"
      ],
      "metadata": {
        "id": "MklpWCDv_1rY"
      },
      "execution_count": 43,
      "outputs": []
    },
    {
      "cell_type": "code",
      "source": [
        "def random_place(board,player):\n",
        "  selection=possibilities(board)\n",
        "  current_location=random.choice(selection)\n",
        "  board[current_location]=player\n",
        "  return board"
      ],
      "metadata": {
        "id": "wpWcpk4uAKPX"
      },
      "execution_count": 36,
      "outputs": []
    },
    {
      "cell_type": "code",
      "source": [
        "def row_win(board,player):\n",
        "  for x in range(len(board)):\n",
        "    win=True\n",
        "    for y in range(len(board)):\n",
        "      if board[x,y]!=player:\n",
        "        win=False\n",
        "        continue\n",
        "    if win==True:\n",
        "       return (win)\n",
        "  return (win)"
      ],
      "metadata": {
        "id": "tOt3cKHuBa0X"
      },
      "execution_count": 50,
      "outputs": []
    },
    {
      "cell_type": "code",
      "source": [
        "def col_win(board,player):\n",
        "  for x in range(len(board)):\n",
        "    win=True\n",
        "    for y in range(len(board)):\n",
        "      if board[y,x]!=player:\n",
        "        win=False\n",
        "        continue\n",
        "    if win==True:\n",
        "       return (win)\n",
        "  return (win)"
      ],
      "metadata": {
        "id": "qPvXlc0QCWrA"
      },
      "execution_count": 53,
      "outputs": []
    },
    {
      "cell_type": "code",
      "source": [
        "def diag_win(board,player):\n",
        "  win=True\n",
        "  y=0\n",
        "  for x in range(len(board)):\n",
        "   if board[x,x]!=player:\n",
        "    win=False\n",
        "  if win:\n",
        "    return win\n",
        "\n",
        "  win=True\n",
        "  for x in range(len(board)):\n",
        "    y=len(board)-1-x\n",
        "    if board[x,y]!=player:\n",
        "      win=False\n",
        "  return (win)"
      ],
      "metadata": {
        "id": "TxZwm0EGCd_u"
      },
      "execution_count": 54,
      "outputs": []
    },
    {
      "cell_type": "code",
      "source": [
        "def evaluate(board):\n",
        "  winner=0\n",
        "  for player in [1,2]:\n",
        "    if(row_win(board,player) or col_win(board,player) or diag_win(board,player)):\n",
        "      winner=player\n",
        "  if np.all(board!=0) and winner==0:\n",
        "    winner=-1\n",
        "  return winner"
      ],
      "metadata": {
        "id": "4mx7kyoLDdzn"
      },
      "execution_count": 46,
      "outputs": []
    },
    {
      "cell_type": "code",
      "source": [
        "def play_game():\n",
        "  board,winner,counter=create_board(),0,1\n",
        "  print(board)\n",
        "  sleep(2)\n",
        "  while(winner==0):\n",
        "    for player in [1,2]:\n",
        "      board=random_place(board,player)\n",
        "      print(\"board after \" + str(counter) + \" move\")\n",
        "      print(board)\n",
        "      counter+=1\n",
        "      winner=evaluate(board)\n",
        "      if winner!=0:\n",
        "        break\n",
        "  return winner"
      ],
      "metadata": {
        "id": "o3CncaI4EIUu"
      },
      "execution_count": 48,
      "outputs": []
    },
    {
      "cell_type": "code",
      "source": [
        "play_game()"
      ],
      "metadata": {
        "colab": {
          "base_uri": "https://localhost:8080/"
        },
        "id": "X5b86j1kFDh6",
        "outputId": "b42299e8-5e55-4531-e03e-2831187309fc"
      },
      "execution_count": 55,
      "outputs": [
        {
          "output_type": "stream",
          "name": "stdout",
          "text": [
            "[[0 0 0]\n",
            " [0 0 0]\n",
            " [0 0 0]]\n",
            "board after 1 move\n",
            "[[0 0 1]\n",
            " [0 0 0]\n",
            " [0 0 0]]\n",
            "board after 2 move\n",
            "[[0 0 1]\n",
            " [0 2 0]\n",
            " [0 0 0]]\n",
            "board after 3 move\n",
            "[[0 0 1]\n",
            " [0 2 0]\n",
            " [0 0 1]]\n",
            "board after 4 move\n",
            "[[0 0 1]\n",
            " [0 2 0]\n",
            " [0 2 1]]\n",
            "board after 5 move\n",
            "[[1 0 1]\n",
            " [0 2 0]\n",
            " [0 2 1]]\n",
            "board after 6 move\n",
            "[[1 0 1]\n",
            " [0 2 2]\n",
            " [0 2 1]]\n",
            "board after 7 move\n",
            "[[1 1 1]\n",
            " [0 2 2]\n",
            " [0 2 1]]\n"
          ]
        },
        {
          "output_type": "execute_result",
          "data": {
            "text/plain": [
              "1"
            ]
          },
          "metadata": {},
          "execution_count": 55
        }
      ]
    },
    {
      "cell_type": "code",
      "source": [],
      "metadata": {
        "id": "x6LauTG-FJ1Q"
      },
      "execution_count": null,
      "outputs": []
    }
  ]
}