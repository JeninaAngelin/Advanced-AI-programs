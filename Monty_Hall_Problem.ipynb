{
  "nbformat": 4,
  "nbformat_minor": 0,
  "metadata": {
    "colab": {
      "provenance": []
    },
    "kernelspec": {
      "name": "python3",
      "display_name": "Python 3"
    },
    "language_info": {
      "name": "python"
    }
  },
  "cells": [
    {
      "cell_type": "code",
      "source": [
        "import random\n",
        "import matplotlib.pyplot as plt"
      ],
      "metadata": {
        "id": "bxKc7dcbWrct"
      },
      "execution_count": 3,
      "outputs": []
    },
    {
      "cell_type": "code",
      "execution_count": 2,
      "metadata": {
        "id": "Vc_IujPYNdqj"
      },
      "outputs": [],
      "source": [
        "runs=100\n",
        "total=0\n",
        "x=[]\n",
        "y=[]\n",
        "precision=10000"
      ]
    },
    {
      "cell_type": "code",
      "source": [
        "for i in range(runs):\n",
        "  total=total+probablity_of_success_on_switch_door(precision)\n",
        "  x.append(i+1)\n",
        "  y.append(total/(i+1))\n",
        "plt.plot(x,y)\n",
        "plt.ylim(0,1)\n",
        "plt.xlim(0,runs)\n",
        "print(precision,runs,total/runs)"
      ],
      "metadata": {
        "colab": {
          "base_uri": "https://localhost:8080/",
          "height": 452
        },
        "id": "H54rjcQsVWyn",
        "outputId": "f3d9eecf-ce07-48c6-eeb2-71adbb1dc765"
      },
      "execution_count": 6,
      "outputs": [
        {
          "output_type": "stream",
          "name": "stdout",
          "text": [
            "10000 100 0.6656490000000003\n"
          ]
        },
        {
          "output_type": "display_data",
          "data": {
            "text/plain": [
              "<Figure size 640x480 with 1 Axes>"
            ],
            "image/png": "[encoded data removed]"
          },
          "metadata": {}
        }
      ]
    },
    {
      "cell_type": "code",
      "source": [
        "def probablity_of_success_on_switch_door(precision):\n",
        "  switch_door=0\n",
        "  for i in range(precision):\n",
        "    switch_door=switch_door+ switch_door_experiment()\n",
        "  return switch_door/precision"
      ],
      "metadata": {
        "id": "BzikjVGCV1tS"
      },
      "execution_count": 5,
      "outputs": []
    },
    {
      "cell_type": "code",
      "source": [
        "def switch_door_experiment():\n",
        "\n",
        "  correct_door=random.choice([1,2,3])\n",
        "  door=random.choice([1,2,3])\n",
        "\n",
        "  doors=[1,2,3]\n",
        "  try:\n",
        "    doors.remove(door)\n",
        "    doors.remove(correct_door)\n",
        "  except:\n",
        "    pass\n",
        "\n",
        "  random_incorrect_door=random.choice(doors)\n",
        "\n",
        "  doors=[1,2,3]\n",
        "  doors.remove(random_incorrect_door)\n",
        "  doors.remove(door)\n",
        "  final_choice=doors[0]\n",
        "\n",
        "  if final_choice==correct_door:\n",
        "    return 1\n",
        "  else:\n",
        "    return 0"
      ],
      "metadata": {
        "id": "u05MCJ2mWz_N"
      },
      "execution_count": 4,
      "outputs": []
    },
    {
      "cell_type": "code",
      "source": [],
      "metadata": {
        "id": "VDh6gP87XrOC"
      },
      "execution_count": null,
      "outputs": []
    }
  ]
}